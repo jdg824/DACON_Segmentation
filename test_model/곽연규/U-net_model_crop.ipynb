{
 "cells": [
  {
   "cell_type": "code",
   "execution_count": null,
   "metadata": {},
   "outputs": [],
   "source": [
    "from PIL import Image\n",
    "import os\n",
    "\n",
    "def crop_image(image, patch_size, output_folder):\n",
    "    width, height = image.size\n",
    "    patches = []\n",
    "    \n",
    "    for y in range(0, height, patch_size):\n",
    "        for x in range(0, width, patch_size):\n",
    "            patch = image.crop((x, y, x+patch_size, y+patch_size))\n",
    "            patches.append(patch)\n",
    "            # 이미지를 폴더에 저장\n",
    "            patch.save(os.path.join(output_folder, f\"patch_{x}_{y}.png\"))\n",
    "    \n",
    "    return patches\n",
    "\n",
    "# 1024x1024 이미지 로드\n",
    "image = Image.open(\"path/to/image.jpg\")\n",
    "\n",
    "# 이미지를 224x224 크기의 패치로 잘라서 리스트에 저장하고, 폴더에 저장\n",
    "patch_size = 224\n",
    "output_folder = \"C:\\open\\open\\224size_img\"\n",
    "patches = crop_image(image, patch_size, output_folder)\n"
   ]
  }
 ],
 "metadata": {
  "language_info": {
   "name": "python"
  },
  "orig_nbformat": 4
 },
 "nbformat": 4,
 "nbformat_minor": 2
}
